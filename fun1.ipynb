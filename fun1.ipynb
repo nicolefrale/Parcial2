{
 "cells": [
  {
   "cell_type": "markdown",
   "id": "374395b5-9d27-42be-b340-6dc40c63d6cf",
   "metadata": {},
   "source": [
    "Parcial 2\n",
    "\n",
    "\n",
    "Nombres: Nicole Franco León,\n",
    "Laura Ximena Clavijo Castellanos, \n",
    "Leydi Catherine Corredor Martinez.\n",
    "\n",
    "\n"
   ]
  },
  {
   "cell_type": "markdown",
   "id": "f998c0ce-3647-4681-862f-f9662cb75256",
   "metadata": {},
   "source": [
    "Cómo importar funciones desde otro cuaderno Jupyter.\n",
    "\n",
    "-Para llamara una funcion de otro Notebook, en el primer paso vamos a crear la funcion y determinar. Para ello, se debe crear un Jupiter Notebook que contenga las funciones que se desean importar en el otro."
   ]
  },
  {
   "cell_type": "markdown",
   "id": "18e74b98-1635-4281-9280-7cd76204a274",
   "metadata": {},
   "source": [
    "1.  El sys, nos sirve para mostrar la lista de rutas donde Python y busca los módulos cuando usas import."
   ]
  },
  {
   "cell_type": "code",
   "execution_count": 1,
   "id": "f61d4050-fb0a-4987-9771-2594a1d02817",
   "metadata": {},
   "outputs": [
    {
     "name": "stdout",
     "output_type": "stream",
     "text": [
      "['C:\\\\Users\\\\ximen\\\\mi-proyecto', 'C:\\\\Users\\\\ximen\\\\anaconda3\\\\python312.zip', 'C:\\\\Users\\\\ximen\\\\anaconda3\\\\DLLs', 'C:\\\\Users\\\\ximen\\\\anaconda3\\\\Lib', 'C:\\\\Users\\\\ximen\\\\anaconda3', '', 'C:\\\\Users\\\\ximen\\\\anaconda3\\\\Lib\\\\site-packages', 'C:\\\\Users\\\\ximen\\\\anaconda3\\\\Lib\\\\site-packages\\\\win32', 'C:\\\\Users\\\\ximen\\\\anaconda3\\\\Lib\\\\site-packages\\\\win32\\\\lib', 'C:\\\\Users\\\\ximen\\\\anaconda3\\\\Lib\\\\site-packages\\\\Pythonwin', 'C:\\\\Users\\\\ximen\\\\anaconda3\\\\Lib\\\\site-packages\\\\setuptools\\\\_vendor']\n"
     ]
    }
   ],
   "source": [
    "import sys\n",
    "print(sys.path)\n"
   ]
  },
  {
   "cell_type": "markdown",
   "id": "caae3abf-3e78-4cc9-a0f4-259597d69dae",
   "metadata": {},
   "source": [
    "2. Es impotante saber que el modulo ipynb este instalado para poder hacer el ejercicio."
   ]
  },
  {
   "cell_type": "code",
   "execution_count": 2,
   "id": "e4849f6d-3269-4b5b-b72d-be152bbcd35f",
   "metadata": {},
   "outputs": [
    {
     "name": "stdout",
     "output_type": "stream",
     "text": [
      "El módulo ipynb está instalado correctamente.\n"
     ]
    }
   ],
   "source": [
    "import ipynb\n",
    "print(\"El módulo ipynb está instalado correctamente.\")\n"
   ]
  },
  {
   "cell_type": "markdown",
   "id": "fdbc5a40-476d-46f6-9d3e-0e4d4fe5d39e",
   "metadata": {},
   "source": [
    "3. Describimos la funcion que se quiere importar."
   ]
  },
  {
   "cell_type": "code",
   "execution_count": 3,
   "id": "98f1adf1-e3d5-41c6-bbb4-7dfc569e2dea",
   "metadata": {},
   "outputs": [],
   "source": [
    "# Define a function that returns the sum of two numbers\n",
    "def add_numbers(a, b):\n",
    "    return a + b\n",
    "\n",
    "# Define a function that returns the difference between two numbers\n",
    "def subtract_numbers(a, b):\n",
    "    return a - b"
   ]
  },
  {
   "cell_type": "markdown",
   "id": "82a73bfd-6506-44e5-9300-ff4dd57cdcdc",
   "metadata": {},
   "source": [
    "4. Se debe guaradar el Notebook  con una extensión .ipynb.\n",
    "5. En el siguiente Notebook se utilizara el comando %run, ko que nos permitira importar funcines desde otro."
   ]
  }
 ],
 "metadata": {
  "kernelspec": {
   "display_name": "Python 3 (ipykernel)",
   "language": "python",
   "name": "python3"
  },
  "language_info": {
   "codemirror_mode": {
    "name": "ipython",
    "version": 3
   },
   "file_extension": ".py",
   "mimetype": "text/x-python",
   "name": "python",
   "nbconvert_exporter": "python",
   "pygments_lexer": "ipython3",
   "version": "3.12.8"
  }
 },
 "nbformat": 4,
 "nbformat_minor": 5
}

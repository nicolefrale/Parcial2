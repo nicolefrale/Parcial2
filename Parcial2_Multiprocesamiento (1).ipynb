{
 "cells": [
  {
   "cell_type": "markdown",
   "id": "9d3f2291-1c2e-40fa-ab1e-2d55834e2547",
   "metadata": {},
   "source": [
    "# Multiprocesamiento\n",
    "\n",
    "- Nicole Franco León\n",
    "- Laura Ximena Clavijo Castellanos\n",
    "- Leydi Catherine Corredor Martinez"
   ]
  },
  {
   "cell_type": "markdown",
   "id": "35090e71-5381-4b9f-9acf-42d9ecca263d",
   "metadata": {},
   "source": [
    "Se puede definir como el uso de dos o más procesadores en una computadora para la ejecución de uno o varios procesos.\n",
    "En python se puede abordar de diferentes maneras, siendo una de ellas es el módulo de **threading** el cual construye interfaces de hilado de alto nivel sobre el módulo de más bajo nivel"
   ]
  },
  {
   "cell_type": "markdown",
   "id": "8e8401b2-3665-41f1-8ed5-83aa4044879c",
   "metadata": {},
   "source": [
    "El módulo **threading** define las siguientes funciones:\n",
    "\n",
    "#### threading.active_count()\n",
    "Retorna el número de objetos Thread actualmente con vida. La cuenta retornada es igual al largo de la lista retornada por _enumerate()._\n",
    "\n",
    "#### threading.current_thread()\n",
    "Retorna el objeto Thread actual, correspondiente al hilo de control del invocador. Si el hilo de control del invocador no fue creado a través del módulo threading, se retorna un objeto hilo _dummy_ con funcionalidad limitada.\n",
    "\n",
    "### threading.excepthook(args, /)\n",
    "Gestiona una excepción lanzada por _Thread.run()_\n",
    "\n",
    "El argumento args posee los siguientes atributos:\n",
    "\n",
    "- exc_type: Tipo de excepción.\n",
    "- exc_value: Valor de la excepción, puede ser None.\n",
    "- exc_traceback: Rastreo de la excepción, puede ser None.\n",
    "- thread: El hilo que ha lanzado la excepción, puede ser None.\n",
    "\n",
    "Si _exc_type_ es _SystemExit_, la excepción es silenciosamente ignorada. De otro modo, la excepción se imprime en _sys.stderr._\n",
    "\n",
    "Si esta función lanza una excepción, se llama a _sys.excepthook()_ para manejarla."
   ]
  },
  {
   "cell_type": "markdown",
   "id": "8b1930d4-11f0-4475-a6fc-248ccc3483fd",
   "metadata": {},
   "source": [
    "---"
   ]
  },
  {
   "cell_type": "markdown",
   "id": "b3ddfdfe-0ce8-4318-bf48-9831cacf7b22",
   "metadata": {},
   "source": [
    "## Ejemplo\n",
    "\n",
    "1. Para simular una tarea que conlleva una _x_ cantidad de tiempo, se definirá una función la cual simulará la ejecución de _x_ proceso en esa magnitud de tiempo, para ello se implementara el modulo **time** y mas especificamente la función **sleep** "
   ]
  },
  {
   "cell_type": "code",
   "execution_count": 1,
   "id": "e42a0c2c-2167-4b5d-a4d8-5fae48848855",
   "metadata": {},
   "outputs": [],
   "source": [
    "import time"
   ]
  },
  {
   "cell_type": "code",
   "execution_count": 2,
   "id": "fb0113e6-b0e7-4003-bf11-898552a4ac12",
   "metadata": {},
   "outputs": [],
   "source": [
    "# Definición de función\n",
    "\n",
    "def longTask(task_id):\n",
    "    print(f\"Starting task processing: {task_id}\")\n",
    "    time.sleep(5)\n",
    "    print(f\"Completed task processing: {task_id}\")\n"
   ]
  },
  {
   "cell_type": "markdown",
   "id": "552c7660-a83e-4704-bf88-3f37865410af",
   "metadata": {},
   "source": [
    "Se acaba de declarar una función la cual mostrará como se ejecutarán una tarea que requerirá una determinado tiempo de procesamiento"
   ]
  },
  {
   "cell_type": "markdown",
   "id": "02081a68-b569-4c12-abc1-7064b69f09b6",
   "metadata": {},
   "source": [
    "---"
   ]
  },
  {
   "cell_type": "markdown",
   "id": "f159fe82-9a3e-409d-81a2-f547101212f6",
   "metadata": {
    "scrolled": true
   },
   "source": [
    "2. Se ejecutará un _for loop_ el cual permitirá evidenciar el tiempo que toma ejecutar la funcion previamente declarada"
   ]
  },
  {
   "cell_type": "code",
   "execution_count": null,
   "id": "c9972940-3fe3-4056-b576-7366ee1bcff9",
   "metadata": {},
   "outputs": [
    {
     "name": "stdout",
     "output_type": "stream",
     "text": [
      "Starting task processing: 0\n",
      "Completed task processing: 0\n",
      "Starting task processing: 1\n",
      "Completed task processing: 1\n",
      "Starting task processing: 2\n",
      "Completed task processing: 2\n",
      "Starting task processing: 3\n"
     ]
    }
   ],
   "source": [
    "for x in range(10):\n",
    "    longTask(x)"
   ]
  },
  {
   "cell_type": "markdown",
   "id": "14d43eef-291c-4b01-ae12-c2bbed90f09b",
   "metadata": {},
   "source": [
    "El proceso anterior tomará un total de 50 segundos en completarse, ya que  _fo loop_ iterará los números de 0 a 9 y entre cada iteración va a tomar un tiempo de 5 segundos, que es el tiempo asignado en nuestra función previamente declarada.\n",
    "Dada la naturaleza de la programación lineal, en este ejemplo el iterador no pasará al siguiente número sin haber completado el anterior"
   ]
  },
  {
   "cell_type": "markdown",
   "id": "b43a58fd-e290-4936-8a6a-34cdb8d98d54",
   "metadata": {},
   "source": [
    "---"
   ]
  },
  {
   "cell_type": "markdown",
   "id": "bb4d05b5-ec8e-40c4-b6a4-1ab90855563a",
   "metadata": {},
   "source": [
    "3. Se implementará el módulo de **threading** el cual permitirá ejecutar varias tareas en diferentes procesos"
   ]
  },
  {
   "cell_type": "code",
   "execution_count": 3,
   "id": "e566a575-d38d-4047-b660-cab2d5f8d7de",
   "metadata": {},
   "outputs": [],
   "source": [
    "import threading"
   ]
  },
  {
   "cell_type": "code",
   "execution_count": 4,
   "id": "70aa347b-a047-4b50-aa1d-44934c3caf70",
   "metadata": {},
   "outputs": [
    {
     "name": "stdout",
     "output_type": "stream",
     "text": [
      "Starting task processing: 0\n",
      "Starting task processing: 1\n",
      "Starting task processing: 2\n",
      "Starting task processing: 3\n",
      "Starting task processing: 4\n",
      "Starting task processing: 5\n",
      "Starting task processing: 6\n",
      "Starting task processing: 7\n",
      "Starting task processing: 8\n",
      "Starting task processing: 9\n",
      "Completed task processing: 0\n",
      "Completed task processing: 1\n",
      "Completed task processing: 2\n",
      "Completed task processing: 3\n",
      "Completed task processing: 4\n",
      "Completed task processing: 5\n",
      "Completed task processing: 6\n",
      "Completed task processing: 7\n",
      "Completed task processing: 8\n",
      "Completed task processing: 9\n"
     ]
    }
   ],
   "source": [
    "threads = []\n",
    "for x in range(10):\n",
    "    t = threading.Thread(target = longTask, args = (x, ))\n",
    "    threads.append(t)\n",
    "    t.start()\n",
    "\n",
    "for x in threads:\n",
    "    x.join()"
   ]
  },
  {
   "cell_type": "markdown",
   "id": "841bc1db-2bbd-4552-94c5-6735716f774e",
   "metadata": {},
   "source": [
    "En la celda anterior se ejecuta el módulo de **threading** el cual distribuye los procesos que se están ejecutando según la memoria del dispositivo, de esta manera el proceso que tomaba 50 segundos tomara mucho menos tiempo, ya que inicia los procesos paralelamente y no depende de ellos mismos para poder completarse, ejecutando la función en aproximadamente 5 segundos. Finalmente, termina las 10 tareas, y las une nuevamente desde el proceso padre donde fue creado."
   ]
  },
  {
   "cell_type": "markdown",
   "id": "7e1d07f8-e46f-48cd-8528-58943df1c086",
   "metadata": {},
   "source": [
    "```mermaid\n",
    "graph TD\n",
    "    A[\"Hilo Inicial\"] --> B[\"Lista de Tareas (10 tareas)\"]\n",
    "    B --> C[dividir en N hilos]\n",
    "    C --> D[Hilo 1]\n",
    "    C --> E[Hilo 2]\n",
    "    C --> F[Hilo 3]\n",
    "    C --> G[Hilo 4]\n",
    "    D --> H[\"Ejecutar tarea (time.sleep)\"]\n",
    "    E --> H\n",
    "    F --> H\n",
    "    G --> H\n",
    "    H --> I[Tarea completa]\n",
    "    I --> J[Obtener resultados]\n",
    "\n",
    "```"
   ]
  },
  {
   "cell_type": "markdown",
   "id": "4ca51833-7bdc-47cb-a5a4-6fcda287b287",
   "metadata": {},
   "source": [
    "---"
   ]
  },
  {
   "cell_type": "markdown",
   "id": "9ca19cc9-0a38-4621-9c3f-e42f8149465b",
   "metadata": {},
   "source": [
    "## Ejemplo 2\n",
    "\n",
    "En este ejemplo se implementará un módulo llamado **multiprocessing** el cual permite crear procesos (spawning) utilizando una API similar al módulo threading. El paquete multiprocessing ofrece concurrencia tanto local como remota, esquivando el Global Interpreter Lock mediante el uso de subprocesos en lugar de hilos (threads).\n",
    "\n",
    "1. Es necesario importar el módulo de *multiprocessing*"
   ]
  },
  {
   "cell_type": "code",
   "execution_count": 17,
   "id": "15d5a786-f4e9-449a-96e7-bf98fd28f082",
   "metadata": {},
   "outputs": [],
   "source": [
    "import multiprocessing as mp\n",
    "from Task import longTask2"
   ]
  },
  {
   "cell_type": "code",
   "execution_count": 18,
   "id": "4833eaed-1b02-4b92-8c8d-60bd819d5628",
   "metadata": {},
   "outputs": [
    {
     "name": "stdout",
     "output_type": "stream",
     "text": [
      "El número de procesos que actualmente tiene tu equipo son: 12\n"
     ]
    }
   ],
   "source": [
    "num_processes = mp.cpu_count()\n",
    "print(f\"El número de procesos que actualmente tiene tu equipo son: {num_processes}\")"
   ]
  },
  {
   "cell_type": "markdown",
   "id": "36c547ac-5265-42e6-b75e-b7e58ef4e366",
   "metadata": {},
   "source": [
    "En el caso del computador donde se está ejecutando este código, el dispositivo cuenta con 12 núcleos"
   ]
  },
  {
   "cell_type": "markdown",
   "id": "330e6238-9d94-4273-bc3c-31bd139b0850",
   "metadata": {},
   "source": [
    "---"
   ]
  },
  {
   "cell_type": "code",
   "execution_count": 24,
   "id": "4b2b629d-0b50-452d-8966-3400849ce3e8",
   "metadata": {},
   "outputs": [
    {
     "name": "stdout",
     "output_type": "stream",
     "text": [
      "['Starting task processing (MultiProcessing): 0', 'Completed task processing (MultiProcessing): 0']\n",
      "['Starting task processing (MultiProcessing): 1', 'Completed task processing (MultiProcessing): 1']\n",
      "['Starting task processing (MultiProcessing): 2', 'Completed task processing (MultiProcessing): 2']\n",
      "['Starting task processing (MultiProcessing): 3', 'Completed task processing (MultiProcessing): 3']\n",
      "['Starting task processing (MultiProcessing): 4', 'Completed task processing (MultiProcessing): 4']\n",
      "['Starting task processing (MultiProcessing): 5', 'Completed task processing (MultiProcessing): 5']\n",
      "['Starting task processing (MultiProcessing): 6', 'Completed task processing (MultiProcessing): 6']\n",
      "['Starting task processing (MultiProcessing): 7', 'Completed task processing (MultiProcessing): 7']\n",
      "['Starting task processing (MultiProcessing): 8', 'Completed task processing (MultiProcessing): 8']\n",
      "['Starting task processing (MultiProcessing): 9', 'Completed task processing (MultiProcessing): 9']\n"
     ]
    }
   ],
   "source": [
    "\n",
    "with mp.Pool(num_processes - 1) as pool:\n",
    "    results = pool.map(longTask2, range(10))\n",
    "\n",
    "for x in results:\n",
    "    print(x)"
   ]
  },
  {
   "cell_type": "markdown",
   "id": "38603a4e-85a1-48ba-9ab7-61322bc83bf8",
   "metadata": {},
   "source": [
    "Como se evidencia en este ejemplo este módulo lo que hace es que está distribuyendo la tarea asignada en los 12 núcleos que se identificaron previamente creando subprocesos por cada tarea a ejecutar, por tal razón su tiempo de ejecución es sustancialmente más corto que los 50 segundos iniciales de la función _longTask_"
   ]
  },
  {
   "cell_type": "markdown",
   "id": "871cb6c3-d308-4855-befe-4dfc77b2a194",
   "metadata": {},
   "source": [
    "```mermaid\n",
    "\n",
    "graph TD\n",
    "\n",
    "    A[\"Tarea Inicial\"] --> B[\"Lista de Tareas (10 tareas)\"]\n",
    "    B --> C[Identificar el número de núcleos]\n",
    "    C --> D[Asignar tareas según el número de Núcleos]\n",
    "    D --> E[Núcleo-1]\n",
    "    D --> F[Núcleo-2]\n",
    "    D --> G[Núcleo-3]\n",
    "    D --> H[Núcleo-n]\n",
    "    E --> I[Tarea-1]\n",
    "    E --> J[Tarea-n]\n",
    "    F --> K[Tarea-2]\n",
    "    F --> L[Tarea-n]\n",
    "    G --> M[Tarea-3]\n",
    "    G --> N[Tarea-n]\n",
    "    H --> O[Tarea-n]\n",
    "    I --> P[Resultado-a]\n",
    "    J --> P\n",
    "    K --> Q[Resultado-b]\n",
    "    L --> Q\n",
    "    M --> R[Resultado-c]\n",
    "    N --> R\n",
    "    O --> S[Resultado-n]\n",
    "    P --> T[Tarea finalizada]\n",
    "    Q --> T\n",
    "    R --> T\n",
    "    S --> T\n",
    "    T ~~~ U[Cada resultado que se completa al final de la tarea es independiente de los demás]\n",
    "\n",
    "\n",
    "```"
   ]
  },
  {
   "cell_type": "markdown",
   "id": "ea706d43-407f-49d0-8ae2-8e7aeeebc0ae",
   "metadata": {},
   "source": [
    "\n"
   ]
  },
  {
   "cell_type": "code",
   "execution_count": null,
   "id": "f4e9d226-de38-4b56-b7ac-e27a16ea1a29",
   "metadata": {},
   "outputs": [],
   "source": []
  }
 ],
 "metadata": {
  "kernelspec": {
   "display_name": "Python 3 (ipykernel)",
   "language": "python",
   "name": "python3"
  },
  "language_info": {
   "codemirror_mode": {
    "name": "ipython",
    "version": 3
   },
   "file_extension": ".py",
   "mimetype": "text/x-python",
   "name": "python",
   "nbconvert_exporter": "python",
   "pygments_lexer": "ipython3",
   "version": "3.13.1"
  }
 },
 "nbformat": 4,
 "nbformat_minor": 5
}

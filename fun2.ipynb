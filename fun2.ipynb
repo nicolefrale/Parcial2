{
 "cells": [
  {
   "cell_type": "code",
   "execution_count": 8,
   "id": "6728a43c-ed40-49ce-ba03-6efd76e19dd5",
   "metadata": {},
   "outputs": [],
   "source": [
    "import numpy as np\n",
    "import matplotlib.pyplot as plt"
   ]
  },
  {
   "cell_type": "markdown",
   "id": "9c5fe6cf-fe86-4e50-b545-096d8b325339",
   "metadata": {},
   "source": [
    "6. Para importar las funciones del cuaderno, se utiliza el comando \"%run\"  seguido del nombre del Notebook desde el que desea importar. Por ejemplo, si desea importar las funciones de un cuaderno llamado Saturn2.ipynb."
   ]
  },
  {
   "cell_type": "code",
   "execution_count": 12,
   "id": "37eb63b0-533f-41ef-a174-383763bdf62e",
   "metadata": {},
   "outputs": [
    {
     "name": "stdout",
     "output_type": "stream",
     "text": [
      "['C:\\\\Users\\\\ximen\\\\mi-proyecto', 'C:\\\\Users\\\\ximen\\\\anaconda3\\\\python312.zip', 'C:\\\\Users\\\\ximen\\\\anaconda3\\\\DLLs', 'C:\\\\Users\\\\ximen\\\\anaconda3\\\\Lib', 'C:\\\\Users\\\\ximen\\\\anaconda3', '', 'C:\\\\Users\\\\ximen\\\\anaconda3\\\\Lib\\\\site-packages', 'C:\\\\Users\\\\ximen\\\\anaconda3\\\\Lib\\\\site-packages\\\\win32', 'C:\\\\Users\\\\ximen\\\\anaconda3\\\\Lib\\\\site-packages\\\\win32\\\\lib', 'C:\\\\Users\\\\ximen\\\\anaconda3\\\\Lib\\\\site-packages\\\\Pythonwin', 'C:\\\\Users\\\\ximen\\\\anaconda3\\\\Lib\\\\site-packages\\\\setuptools\\\\_vendor']\n",
      "El módulo ipynb está instalado correctamente.\n"
     ]
    }
   ],
   "source": [
    "%run fun1.ipynb"
   ]
  },
  {
   "cell_type": "markdown",
   "id": "813ed232-01f4-41e7-938a-4f38fa537cb2",
   "metadata": {},
   "source": [
    "7. Después de ejecutar este comando, podrá utilizar las funciones definidas en el 1 Notebook (donde esta la funciòn) fun1.ipyn. Despues de esto, se pueden llamar las funsiones definidas de la siguiente manera:"
   ]
  },
  {
   "cell_type": "code",
   "execution_count": 14,
   "id": "0cb0fef7-047d-4647-ac10-0bf7f30f05ab",
   "metadata": {},
   "outputs": [
    {
     "name": "stdout",
     "output_type": "stream",
     "text": [
      "5\n"
     ]
    }
   ],
   "source": [
    "result = add_numbers(2, 3)\n",
    "print(result) "
   ]
  },
  {
   "cell_type": "code",
   "execution_count": 15,
   "id": "132a2a09-29f6-43a5-9d10-8dbb255591b1",
   "metadata": {},
   "outputs": [
    {
     "name": "stdout",
     "output_type": "stream",
     "text": [
      "2\n"
     ]
    }
   ],
   "source": [
    "result = subtract_numbers(5, 3)\n",
    "print(result) "
   ]
  }
 ],
 "metadata": {
  "kernelspec": {
   "display_name": "Python 3 (ipykernel)",
   "language": "python",
   "name": "python3"
  },
  "language_info": {
   "codemirror_mode": {
    "name": "ipython",
    "version": 3
   },
   "file_extension": ".py",
   "mimetype": "text/x-python",
   "name": "python",
   "nbconvert_exporter": "python",
   "pygments_lexer": "ipython3",
   "version": "3.12.8"
  }
 },
 "nbformat": 4,
 "nbformat_minor": 5
}

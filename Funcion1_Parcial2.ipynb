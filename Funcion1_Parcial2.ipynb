{
 "cells": [
  {
   "cell_type": "code",
   "execution_count": 1,
   "id": "f61d4050-fb0a-4987-9771-2594a1d02817",
   "metadata": {},
   "outputs": [
    {
     "name": "stdout",
     "output_type": "stream",
     "text": [
      "['C:\\\\Users\\\\ximen\\\\mi-proyecto', 'C:\\\\Users\\\\ximen\\\\anaconda3\\\\python312.zip', 'C:\\\\Users\\\\ximen\\\\anaconda3\\\\DLLs', 'C:\\\\Users\\\\ximen\\\\anaconda3\\\\Lib', 'C:\\\\Users\\\\ximen\\\\anaconda3', '', 'C:\\\\Users\\\\ximen\\\\anaconda3\\\\Lib\\\\site-packages', 'C:\\\\Users\\\\ximen\\\\anaconda3\\\\Lib\\\\site-packages\\\\win32', 'C:\\\\Users\\\\ximen\\\\anaconda3\\\\Lib\\\\site-packages\\\\win32\\\\lib', 'C:\\\\Users\\\\ximen\\\\anaconda3\\\\Lib\\\\site-packages\\\\Pythonwin', 'C:\\\\Users\\\\ximen\\\\anaconda3\\\\Lib\\\\site-packages\\\\setuptools\\\\_vendor']\n"
     ]
    }
   ],
   "source": [
    "import sys\n",
    "print(sys.path)\n"
   ]
  },
  {
   "cell_type": "code",
   "execution_count": 2,
   "id": "e4849f6d-3269-4b5b-b72d-be152bbcd35f",
   "metadata": {},
   "outputs": [
    {
     "name": "stdout",
     "output_type": "stream",
     "text": [
      "El módulo ipynb está instalado correctamente.\n"
     ]
    }
   ],
   "source": [
    "import ipynb\n",
    "print(\"El módulo ipynb está instalado correctamente.\")\n"
   ]
  },
  {
   "cell_type": "code",
   "execution_count": 3,
   "id": "98f1adf1-e3d5-41c6-bbb4-7dfc569e2dea",
   "metadata": {},
   "outputs": [],
   "source": [
    "# Define a function that returns the sum of two numbers\n",
    "def add_numbers(a, b):\n",
    "    return a + b\n",
    "\n",
    "# Define a function that returns the difference between two numbers\n",
    "def subtract_numbers(a, b):\n",
    "    return a - b"
   ]
  },
  {
   "cell_type": "code",
   "execution_count": null,
   "id": "9280b162-c174-4e34-a7c3-a183d8612829",
   "metadata": {},
   "outputs": [],
   "source": []
  }
 ],
 "metadata": {
  "kernelspec": {
   "display_name": "Python 3 (ipykernel)",
   "language": "python",
   "name": "python3"
  },
  "language_info": {
   "codemirror_mode": {
    "name": "ipython",
    "version": 3
   },
   "file_extension": ".py",
   "mimetype": "text/x-python",
   "name": "python",
   "nbconvert_exporter": "python",
   "pygments_lexer": "ipython3",
   "version": "3.12.8"
  }
 },
 "nbformat": 4,
 "nbformat_minor": 5
}
